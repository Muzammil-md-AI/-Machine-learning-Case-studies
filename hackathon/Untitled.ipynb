{
 "cells": [
  {
   "cell_type": "markdown",
   "metadata": {},
   "source": [
    "## About Dataset:-\n",
    "|Features|Description|\n",
    "|-----|-----|\n",
    "|id|Unique ID for every Customer|\n",
    "|account_type|Account Type – current or saving|\n",
    "|gender|Gender of customer|\n",
    "|age|Age of customer|\n",
    "|region_code|Code assigned to region of residence (has order)|\n",
    "|cc_cons_apr|Credit card spend in April|\n",
    "|dc_cons_apr|Debit card spend in April|\n",
    "|cc_cons_may|Credit card spend in May|\n",
    "|dc_cons_may|Debit card spend in May|\n",
    "|cc_cons_jun|Credit card spend in June|\n",
    "|dc_cons_jun|Debit card spend in June|\n",
    "|cc_count_apr|Number of credit card transactions in April|\n",
    "|cc_count_may|Number of credit card transactions in May|\n",
    "|cc_count_jun|Number of credit card transactions in June|\n",
    "|dc_count_apr|Number of debit card transactions in April|\n",
    "|dc_count_may|Number of debit card transactions in May|\n",
    "|dc_count_jun|Number of debit card transactions in June|\n",
    "|card_lim|Maximum Credit Card Limit allocated|\n",
    "|personal_loan_active|Active personal loan with other bank|\n",
    "|vehicle_loan_active|Active Vehicle loan with other bank|\n",
    "|personal_loan_closed|Closed personal loan in last 12 months|\n",
    "|vehicle_loan_closed|Closed vehicle loan in last 12 months|\n",
    "|investment_1|DEMAT investment in june|\n",
    "|investment_2|fixed deposit investment in june|\n",
    "|investment_3|Life Insurance investment in June|\n",
    "|investment_4|General Insurance Investment in June|\n",
    "|debit_amount_apr|Total amount debited for April|\n",
    "|credit_amount_apr|Total amount credited for April|\n",
    "|debit_count_apr|Total number of times amount debited in april|\n",
    "|credit_count_apr|Total number of times amount credited in april|\n",
    "|max_credit_amount_apr|Maximum amount credited in April|\n",
    "|debit_amount_may|Total amount debited for May|\n",
    "|credit_amount_may|Total amount credited for May|\n",
    "|credit_count_may|Total number of times amount credited in May|\n",
    "|debit_count_may|Total number of times amount debited in May|\n",
    "|max_credit_amount_may|Maximum amount credited in May|\n",
    "|debit_amount_jun|Total amount debited for June|\n",
    "|credit_amount_jun|Total amount credited for June|\n",
    "|credit_count_jun|Total number of times amount credited in June|\n",
    "|debit_count_jun|Total number of times amount debited in June|\n",
    "|max_credit_amount_jun|Maximum amount credited in June|\n",
    "|loan_enq|Loan enquiry in last 3 months|\n",
    "|emi_active|Monthly EMI paid to other bank for active loans|\n",
    "|cc_cons|(Target) Average Credit Card Spend in next three months!|"
   ]
  },
  {
   "cell_type": "code",
   "execution_count": 1,
   "metadata": {},
   "outputs": [],
   "source": [
    "import numpy as np\n",
    "import pandas as pd \n",
    "import seaborn as sns\n",
    "import matplotlib.pyplot as plt"
   ]
  },
  {
   "cell_type": "code",
   "execution_count": null,
   "metadata": {},
   "outputs": [],
   "source": [
    "   \"import numpy as np\n",
    "   \"import pandas as pd\\n\",\n",
    "   \"import matplotlib.pyplot as plt\\n\",\n",
    "   \"import seaborn as sns\\n\",\n",
    "   \"%matplotlib inline\\n\",\n",
    "   \"import warnings\\n\",\n",
    "   \"warnings.filterwarnings('ignore')\\n\",\n",
    "   \"from sklearn.preprocessing import LabelEncoder,MinMaxScaler,StandardScaler\\n\",\n",
    "   \"from sklearn.linear_model import LogisticRegression\\n\",\n",
    "   \"from sklearn.tree import DecisionTreeClassifier\\n\",\n",
    "   \"from sklearn.ensemble import GradientBoostingClassifier ,RandomForestClassifier ,GradientBoostingClassifier\\n\",\n",
    "   \"from xgboost import XGBClassifier \\n\",\n",
    "   \"from sklearn.model_selection import GridSearchCV, RandomizedSearchCV\\n\",\n",
    "   \"from sklearn.linear_model import Ridge,Lasso\\n\","
   ]
  }
 ],
 "metadata": {
  "kernelspec": {
   "display_name": "Python 3",
   "language": "python",
   "name": "python3"
  },
  "language_info": {
   "codemirror_mode": {
    "name": "ipython",
    "version": 3
   },
   "file_extension": ".py",
   "mimetype": "text/x-python",
   "name": "python",
   "nbconvert_exporter": "python",
   "pygments_lexer": "ipython3",
   "version": "3.7.1"
  }
 },
 "nbformat": 4,
 "nbformat_minor": 2
}
